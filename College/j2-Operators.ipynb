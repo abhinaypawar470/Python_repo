{
 "cells": [
  {
   "cell_type": "code",
   "execution_count": 17,
   "id": "16f368a3-a5b8-4249-8616-0be3425be35a",
   "metadata": {},
   "outputs": [
    {
     "name": "stdout",
     "output_type": "stream",
     "text": [
      "Lagrnge's inter ploating formula\n",
      "2.4785971428571423\n"
     ]
    }
   ],
   "source": [
    "x=301\n",
    "x0=300\n",
    "x1=304\n",
    "x2=305\n",
    "x3=307\n",
    "\n",
    "y0=2.4771\n",
    "y1=2.4829\n",
    "y2=2.4843\n",
    "y3=2.4871\n",
    "\n",
    "print(\"Lagrnge's inter ploating formula\")\n",
    "b1=(((x-x1)*(x-x2)*(x-x3)) / ((x0-x1)*(x0-x2)*(x0-x3)))*y0\n",
    "b2=(((x-x0)*(x-x2)*(x-x3)) / ((x1-x0)*(x1-x2)*(x1-x3)))*y1\n",
    "b3=(((x-x0)*(x-x1)*(x-x3)) / ((x2-x0)*(x2-x1)*(x2-x3)))*y2\n",
    "b4=(((x-x0)*(x-x1)*(x-x2)) / ((x3-x0)*(x3-x1)*(x3-x2)))*y3\n",
    "\n",
    "print(b1+b2+b3+b4)"
   ]
  },
  {
   "cell_type": "code",
   "execution_count": null,
   "id": "999a8175-8a08-4445-a85a-019044bd63c4",
   "metadata": {},
   "outputs": [],
   "source": []
  }
 ],
 "metadata": {
  "kernelspec": {
   "display_name": "Python 3 (ipykernel)",
   "language": "python",
   "name": "python3"
  },
  "language_info": {
   "codemirror_mode": {
    "name": "ipython",
    "version": 3
   },
   "file_extension": ".py",
   "mimetype": "text/x-python",
   "name": "python",
   "nbconvert_exporter": "python",
   "pygments_lexer": "ipython3",
   "version": "3.9.7"
  }
 },
 "nbformat": 4,
 "nbformat_minor": 5
}
