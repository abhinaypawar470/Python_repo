{
 "cells": [
  {
   "cell_type": "markdown",
   "id": "a84a65d6-f610-4c15-bb77-2131a70ed157",
   "metadata": {},
   "source": [
    "### def evenodd (a):\n",
    "    if(a%2==0):\n",
    "        print(a,\"is Even\")\n",
    "    else:\n",
    "        print(a,\"is Odd\")\n",
    "\n",
    "b=int(input(\"Enter the Number\"))\n",
    "evenodd(b)"
   ]
  },
  {
   "cell_type": "code",
   "execution_count": 4,
   "id": "8d2b3ffd-9a5b-4b4e-a746-baccf6d66298",
   "metadata": {},
   "outputs": [
    {
     "name": "stdin",
     "output_type": "stream",
     "text": [
      "Enter the Number 31\n",
      "Enter the Number 32\n"
     ]
    },
    {
     "name": "stdout",
     "output_type": "stream",
     "text": [
      "The sum is 63\n",
      "The sub is -1\n",
      "The Multiple is 992\n",
      "The Division is 0.96875\n"
     ]
    }
   ],
   "source": [
    "def add (x,y):\n",
    "    z=x+y\n",
    "    print(\"The sum is\",z)\n",
    "\n",
    "def sub (x,y):\n",
    "    z=x-y\n",
    "    print(\"The sub is\",z)\n",
    "    \n",
    "def mul (x,y):\n",
    "    z=x*y\n",
    "    print(\"The Multiple is\",z)\n",
    "\n",
    "def div (x,y):\n",
    "    z=x/y\n",
    "    print(\"The Division is\",z)\n",
    "\n",
    "a=int(input(\"Enter the Number\"))\n",
    "b=int(input(\"Enter the Number\"))\n",
    "add(a,b)\n",
    "sub(a,b)\n",
    "mul(a,b)\n",
    "div(a,b)"
   ]
  },
  {
   "cell_type": "code",
   "execution_count": null,
   "id": "472fe056-db87-4b82-bc32-9e1b942df1f9",
   "metadata": {},
   "outputs": [],
   "source": [
    "#pattern\n",
    "n=int(input(\"Enter the Number of Rows\"))\n",
    "\n",
    "for i in range(1,n+1):\n",
    "    for j in range(1,i+1):\n",
    "        print(i,end=\" \")\n",
    "    print()"
   ]
  },
  {
   "cell_type": "code",
   "execution_count": 33,
   "id": "25c69f3b-3089-494e-901b-916b0d37a944",
   "metadata": {},
   "outputs": [
    {
     "name": "stdin",
     "output_type": "stream",
     "text": [
      "Enter the Number of Rows 5\n"
     ]
    },
    {
     "name": "stdout",
     "output_type": "stream",
     "text": [
      "1 \n",
      "1 2 \n",
      "1 2 3 \n",
      "1 2 3 4 \n",
      "1 2 3 4 5 \n"
     ]
    }
   ],
   "source": [
    "n=int(input(\"Enter the Number of Rows\"))\n",
    "\n",
    "for i in range(1,n+1):\n",
    "    for j in range(1,i+1):\n",
    "        print(j,end=\" \")\n",
    "    print()"
   ]
  },
  {
   "cell_type": "code",
   "execution_count": 21,
   "id": "cc182771-68e3-4e8b-a4ef-88006d3d662d",
   "metadata": {},
   "outputs": [
    {
     "name": "stdin",
     "output_type": "stream",
     "text": [
      "Enter the Number of Rows 6\n"
     ]
    },
    {
     "name": "stdout",
     "output_type": "stream",
     "text": [
      "      \n",
      "     * \n",
      "    * * \n",
      "   * * * \n",
      "  * * * * \n",
      " * * * * * \n"
     ]
    }
   ],
   "source": [
    "n=int(input(\"Enter the Number of Rows\"))\n",
    "\n",
    "for i in range(n):\n",
    "    for j in range(n-i):\n",
    "        print(' ', end='')\n",
    "\n",
    "    for j in range(1, i+1):\n",
    "        print(\"*\", ' ', sep='', end='')\n",
    "    print()"
   ]
  },
  {
   "cell_type": "code",
   "execution_count": 6,
   "id": "f4ee4985-b305-42d7-a0f4-ddbddd26b768",
   "metadata": {},
   "outputs": [
    {
     "name": "stdin",
     "output_type": "stream",
     "text": [
      "Enter the Number of Rows 6\n"
     ]
    },
    {
     "name": "stdout",
     "output_type": "stream",
     "text": [
      "     \n",
      "    *\n",
      "   ***\n",
      "  *****\n",
      " *******\n",
      "*********\n"
     ]
    }
   ],
   "source": [
    "# Not part of exp\n",
    "n=int(input(\"Enter the Number of Rows\"))\n",
    "\n",
    "for i in range(n,0,-1):\n",
    "    for j in range(1,i):\n",
    "        print(\" \",end=\"\")\n",
    "    for k in range(1,n-i):\n",
    "        print(\"*\",end=\"\")\n",
    "    for l in range(0,n-i):\n",
    "        print(\"*\",end=\"\")\n",
    "    print()"
   ]
  },
  {
   "cell_type": "code",
   "execution_count": 1,
   "id": "43d866ff-6a81-47ee-a636-8e08e55a7fda",
   "metadata": {},
   "outputs": [
    {
     "name": "stdin",
     "output_type": "stream",
     "text": [
      "Enter the Number of Rows 10\n"
     ]
    },
    {
     "name": "stdout",
     "output_type": "stream",
     "text": [
      "          \n",
      "         1 \n",
      "        1 1 \n",
      "       1 2 1 \n",
      "      1 3 3 1 \n",
      "     1 4 6 4 1 \n",
      "    1 5 10 10 5 1 \n",
      "   1 6 15 20 15 6 1 \n",
      "  1 7 21 35 35 21 7 1 \n",
      " 1 8 28 56 70 56 28 8 1 \n"
     ]
    }
   ],
   "source": [
    "# Not part of exp\n",
    "n=int(input(\"Enter the Number of Rows\"))\n",
    "\n",
    "for i in range(n):\n",
    "    for j in range(n-i):\n",
    "        print(' ', end='')\n",
    "\n",
    "    C = 1\n",
    "    for j in range(1, i+1):\n",
    "        print(C, ' ', sep='', end='')\n",
    "        C = C * (i - j) // j\n",
    "    print()"
   ]
  },
  {
   "cell_type": "code",
   "execution_count": null,
   "id": "1a85ebd7-d500-4612-a387-e8a81bcf1d67",
   "metadata": {},
   "outputs": [],
   "source": []
  }
 ],
 "metadata": {
  "kernelspec": {
   "display_name": "Python 3 (ipykernel)",
   "language": "python",
   "name": "python3"
  },
  "language_info": {
   "codemirror_mode": {
    "name": "ipython",
    "version": 3
   },
   "file_extension": ".py",
   "mimetype": "text/x-python",
   "name": "python",
   "nbconvert_exporter": "python",
   "pygments_lexer": "ipython3",
   "version": "3.9.7"
  }
 },
 "nbformat": 4,
 "nbformat_minor": 5
}
