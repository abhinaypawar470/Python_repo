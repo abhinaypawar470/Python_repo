{
 "cells": [
  {
   "cell_type": "code",
   "execution_count": 13,
   "id": "e890040f-15ec-4d10-81d5-dc5c5ab677de",
   "metadata": {},
   "outputs": [
    {
     "name": "stdin",
     "output_type": "stream",
     "text": [
      "Enter the number???\n",
      " 477\n"
     ]
    },
    {
     "name": "stdout",
     "output_type": "stream",
     "text": [
      "Reverse of  477 is 774\n"
     ]
    }
   ],
   "source": [
    "#reverse\n",
    "a=int(input(\"Enter the number???\\n\"))\n",
    "temp=a\n",
    "rnum=0\n",
    "\n",
    "while temp!=0:\n",
    "    digit=temp%10\n",
    "    rnum=rnum*10+digit\n",
    "    temp=temp//10\n",
    "\n",
    "print(\"Reverse of \",a,\"is\",rnum)"
   ]
  },
  {
   "cell_type": "code",
   "execution_count": 12,
   "id": "a7b64347-8914-4185-99d1-9548ace8016e",
   "metadata": {},
   "outputs": [
    {
     "name": "stdin",
     "output_type": "stream",
     "text": [
      "Enter the number???\n",
      " 974734\n"
     ]
    },
    {
     "name": "stdout",
     "output_type": "stream",
     "text": [
      "Nine Seven Four Seven Three Four "
     ]
    }
   ],
   "source": [
    "#D to W\n",
    "a=int(input(\"Enter the number???\\n\"))\n",
    "temp=a\n",
    "size=len(str(a))\n",
    "d=[]\n",
    "\n",
    "while temp!=0:\n",
    "    digit=temp%10\n",
    "    temp=temp//10\n",
    "    d.insert(0,digit)\n",
    "\n",
    "for i in range(size):\n",
    "    if d[i]==0:\n",
    "        print(\"Zero\",end=\" \")\n",
    "    elif d[i]==1:\n",
    "        print(\"One\",end=\" \")\n",
    "    elif d[i]==2:\n",
    "        print(\"Two\",end=\" \")\n",
    "    elif d[i]==3:\n",
    "        print(\"Three\",end=\" \")\n",
    "    elif d[i]==4:\n",
    "        print(\"Four\",end=\" \")\n",
    "    elif d[i]==5:\n",
    "        print(\"Five\",end=\" \")\n",
    "    elif d[i]==6:\n",
    "        print(\"Six\",end=\" \")\n",
    "    elif d[i]==7:\n",
    "        print(\"Seven\",end=\" \")\n",
    "    elif d[i]==8:\n",
    "        print(\"Eight\",end=\" \")\n",
    "    elif d[i]==9:\n",
    "        print(\"Nine\",end=\" \")\n",
    "    else :\n",
    "        print(\"Not a digit\")"
   ]
  },
  {
   "cell_type": "code",
   "execution_count": 15,
   "id": "c775847c-9819-435e-bf93-28dd590b140a",
   "metadata": {},
   "outputs": [
    {
     "name": "stdin",
     "output_type": "stream",
     "text": [
      "entre the number???\n",
      " 371\n"
     ]
    },
    {
     "name": "stdout",
     "output_type": "stream",
     "text": [
      "True It is an Armstrong Number!!!\n"
     ]
    }
   ],
   "source": [
    "#Armstrong\n",
    "a=int(input(\"entre the number???\\n\"))\n",
    "temp=a\n",
    "arm=0\n",
    "power=len(str(a))\n",
    "\n",
    "while temp!=0:\n",
    "    digit=temp%10\n",
    "    arm=arm+digit**power\n",
    "    temp=temp//10\n",
    "\n",
    "if arm==a:\n",
    "    print(arm==a,\"It is an Armstrong Number!!!\")\n",
    "else :\n",
    "    print(arm==a,\"It is Not an Armstrong Number!!!\")"
   ]
  },
  {
   "cell_type": "code",
   "execution_count": null,
   "id": "5250747f-d822-4594-91da-cd28086caa90",
   "metadata": {},
   "outputs": [],
   "source": []
  },
  {
   "cell_type": "code",
   "execution_count": null,
   "id": "444c2bca-51c6-4b70-a33a-b84e414d3ba9",
   "metadata": {},
   "outputs": [],
   "source": []
  }
 ],
 "metadata": {
  "kernelspec": {
   "display_name": "Python 3 (ipykernel)",
   "language": "python",
   "name": "python3"
  },
  "language_info": {
   "codemirror_mode": {
    "name": "ipython",
    "version": 3
   },
   "file_extension": ".py",
   "mimetype": "text/x-python",
   "name": "python",
   "nbconvert_exporter": "python",
   "pygments_lexer": "ipython3",
   "version": "3.9.7"
  }
 },
 "nbformat": 4,
 "nbformat_minor": 5
}
