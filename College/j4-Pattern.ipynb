{
 "cells": [
  {
   "cell_type": "code",
   "execution_count": 1,
   "id": "543ec8c4-6a8e-42a9-8f5d-fdf2e35cd024",
   "metadata": {},
   "outputs": [
    {
     "name": "stdin",
     "output_type": "stream",
     "text": [
      "Enter the Rows??? 8\n",
      "Enter the Colums??? 9\n"
     ]
    },
    {
     "name": "stdout",
     "output_type": "stream",
     "text": [
      "*  *  *  *  *  *  *  *  *  \n",
      "*                       *  \n",
      "*                       *  \n",
      "*                       *  \n",
      "*                       *  \n",
      "*                       *  \n",
      "*                       *  \n",
      "*  *  *  *  *  *  *  *  *  \n"
     ]
    }
   ],
   "source": [
    "#hollow Square Pattern\n",
    "a=int(input(\"Enter the Rows???\"))\n",
    "b=int(input(\"Enter the Colums???\"))\n",
    "\n",
    "i=0\n",
    "while(i<a):\n",
    "    j=0\n",
    "    while(j<b):\n",
    "        if i==0 or i==a-1 or j==0 or j==b-1:\n",
    "            print(\"*\",end=\"  \")\n",
    "        else:\n",
    "            print(' ',end=\"  \")\n",
    "        j+=1\n",
    "    print()\n",
    "    i+=1"
   ]
  },
  {
   "cell_type": "code",
   "execution_count": 2,
   "id": "7d192582-f674-4c5a-acba-e54e76d4aefb",
   "metadata": {},
   "outputs": [
    {
     "name": "stdin",
     "output_type": "stream",
     "text": [
      "Enter the Rows??? 7\n"
     ]
    },
    {
     "name": "stdout",
     "output_type": "stream",
     "text": [
      "*           * \n",
      "  *       *   \n",
      "    *   *     \n",
      "      *       \n",
      "    *   *     \n",
      "  *       *   \n",
      "*           * \n"
     ]
    }
   ],
   "source": [
    "# X Pattern\n",
    "a=int(input(\"Enter the Rows???\"))\n",
    "    \n",
    "i=0\n",
    "while(i<a):\n",
    "    j=0\n",
    "    while(j<a):\n",
    "        if i==j or i+j==a-1 :\n",
    "            print(\"*\",end=\" \")\n",
    "        else:\n",
    "            print(' ',end=\" \")\n",
    "        j+=1\n",
    "    print()\n",
    "    i+=1"
   ]
  },
  {
   "cell_type": "code",
   "execution_count": 5,
   "id": "c6aa60a8-c051-47e3-aec8-ea8359500dfc",
   "metadata": {},
   "outputs": [
    {
     "name": "stdin",
     "output_type": "stream",
     "text": [
      "Enter the Rows??? 7\n"
     ]
    },
    {
     "name": "stdout",
     "output_type": "stream",
     "text": [
      "* * * * * * * \n",
      "          *   \n",
      "        *     \n",
      "      *       \n",
      "    *         \n",
      "  *           \n",
      "* * * * * * * \n"
     ]
    }
   ],
   "source": [
    "# Z Pattern\n",
    "a=int(input(\"Enter the Rows???\"))\n",
    "\n",
    "for i in range(a):\n",
    "    for j in range(a):\n",
    "        if i==0 or i==a-1 or i+j==a-1:\n",
    "            print(\"*\",end=\" \")\n",
    "        else:\n",
    "            print(\" \",end=\" \")\n",
    "    print()"
   ]
  },
  {
   "cell_type": "code",
   "execution_count": 34,
   "id": "485e037a-8afd-4deb-ac61-1f9971e654a6",
   "metadata": {},
   "outputs": [
    {
     "name": "stdin",
     "output_type": "stream",
     "text": [
      "Enter the Rows??? 7\n"
     ]
    },
    {
     "name": "stdout",
     "output_type": "stream",
     "text": [
      "*             \n",
      "* *           \n",
      "*   *         \n",
      "*     *       \n",
      "*       *     \n",
      "*         *   \n",
      "* * * * * * * \n"
     ]
    }
   ],
   "source": [
    "# Right Angle Triangle\n",
    "a=int(input(\"Enter the Rows???\"))\n",
    "\n",
    "for i in range(a):\n",
    "    for j in range(a):\n",
    "        if j==0 or i==a-1 or i==j:\n",
    "            print(\"*\",end=\" \")\n",
    "        else:\n",
    "            print(\" \",end=\" \")\n",
    "    print()"
   ]
  },
  {
   "cell_type": "code",
   "execution_count": 30,
   "id": "61528f38-11ad-4959-8a69-da5bc06101e4",
   "metadata": {},
   "outputs": [
    {
     "name": "stdin",
     "output_type": "stream",
     "text": [
      "Enter the Rows??? 7\n",
      "Enter the Colums??? 7\n"
     ]
    },
    {
     "name": "stdout",
     "output_type": "stream",
     "text": [
      "*           * \n",
      "*           * \n",
      "*           * \n",
      "* * * * * * * \n",
      "*           * \n",
      "*           * \n",
      "*           * \n"
     ]
    }
   ],
   "source": [
    "# H pattern\n",
    "a=int(input(\"Enter the Rows???\"))\n",
    "b=int(input(\"Enter the Colums???\"))\n",
    "\n",
    "i=0\n",
    "while (i<a):\n",
    "    j=0\n",
    "    while (j<b):\n",
    "        if j==0 or j==b-1 or i==a//2:\n",
    "            print(\"*\",end=\" \")\n",
    "        else:\n",
    "            print(\" \",end=\" \")\n",
    "        j=j+1\n",
    "    print()\n",
    "    i=i+1"
   ]
  }
 ],
 "metadata": {
  "kernelspec": {
   "display_name": "Python 3 (ipykernel)",
   "language": "python",
   "name": "python3"
  },
  "language_info": {
   "codemirror_mode": {
    "name": "ipython",
    "version": 3
   },
   "file_extension": ".py",
   "mimetype": "text/x-python",
   "name": "python",
   "nbconvert_exporter": "python",
   "pygments_lexer": "ipython3",
   "version": "3.9.7"
  }
 },
 "nbformat": 4,
 "nbformat_minor": 5
}
