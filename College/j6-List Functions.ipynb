{
 "cells": [
  {
   "cell_type": "code",
   "execution_count": 4,
   "id": "cd14abd3-0184-4b92-8267-04b5ebdf54d3",
   "metadata": {},
   "outputs": [
    {
     "name": "stdout",
     "output_type": "stream",
     "text": [
      "['__add__', '__class__', '__class_getitem__', '__contains__', '__delattr__', '__delitem__', '__dir__', '__doc__', '__eq__', '__format__', '__ge__', '__getattribute__', '__getitem__', '__gt__', '__hash__', '__iadd__', '__imul__', '__init__', '__init_subclass__', '__iter__', '__le__', '__len__', '__lt__', '__mul__', '__ne__', '__new__', '__reduce__', '__reduce_ex__', '__repr__', '__reversed__', '__rmul__', '__setattr__', '__setitem__', '__sizeof__', '__str__', '__subclasshook__', 'append', 'clear', 'copy', 'count', 'extend', 'index', 'insert', 'pop', 'remove', 'reverse', 'sort']\n"
     ]
    }
   ],
   "source": [
    "l=[]\n",
    "print(dir(l))"
   ]
  },
  {
   "cell_type": "code",
   "execution_count": 3,
   "id": "45541bc4-1d13-4f3d-ab15-81a45bbc01d1",
   "metadata": {},
   "outputs": [
    {
     "name": "stdout",
     "output_type": "stream",
     "text": [
      "List [1, 2, 3, 4, 5, 6, 7]\n",
      "\n",
      "The sum is 28 \n",
      "\n",
      "The min is 1 \n",
      "\n",
      "The max is 7 \n",
      "\n",
      "Append [1, 2, 3, 4, 5, 6, 7, 7] \n",
      "\n",
      "Extend [1, 2, 3, 4, 5, 6, 7, 7, 7, 7, 8, 9, 10, 11] \n",
      "\n",
      "Insert [1, 2, 3, 4, 5, 6, 48, 7, 7, 7, 7, 8, 9, 10, 11] \n",
      "\n",
      "Copy [1, 2, 3, 4, 5, 6, 48, 7, 7, 7, 7, 8, 9, 10, 11] \n",
      "\n",
      "Index 6 \n",
      "\n",
      "Count 4 \n",
      "\n",
      "Sort [1, 2, 3, 4, 5, 6, 7, 7, 7, 7, 8, 9, 10, 11, 48] \n",
      "\n",
      "Reverse [48, 11, 10, 9, 8, 7, 7, 7, 7, 6, 5, 4, 3, 2, 1] \n",
      "\n",
      "Pop [1, 2, 3, 4, 5, 6, 7, 7, 7, 7, 8, 9, 10, 11] \n",
      "\n",
      "Remove [1, 2, 3, 4, 5, 6, 7, 7, 7, 8, 9, 10, 11] \n",
      "\n",
      "Del [1, 2, 3, 4, 5, 6, 7, 7, 7, 8, 9, 10] \n",
      "\n",
      "Clear [] \n",
      "\n"
     ]
    }
   ],
   "source": [
    "a=[1,2,3,4,5,6,7]\n",
    "print(\"List\",a)\n",
    "\n",
    "print(\"\\nThe sum is\",sum(a),\"\\n\")\n",
    "print(\"The min is\",min(a),\"\\n\")\n",
    "print(\"The max is\",max(a),\"\\n\")\n",
    "\n",
    "\n",
    "\n",
    "a.append(7)\n",
    "print(\"Append\",a,\"\\n\")\n",
    "\n",
    "a.extend([7,7,8,9,10,11])\n",
    "print(\"Extend\",a,\"\\n\")\n",
    "\n",
    "a.insert(6,48)\n",
    "print(\"Insert\",a,\"\\n\")\n",
    "\n",
    "b=a.copy()\n",
    "print(\"Copy\",b,\"\\n\")\n",
    "\n",
    "y=a.index(48)\n",
    "print(\"Index\",y,\"\\n\")\n",
    "\n",
    "z=a.count(7)\n",
    "print(\"Count\",z,\"\\n\")\n",
    "\n",
    "a.sort()\n",
    "print(\"Sort\",a,\"\\n\")\n",
    "\n",
    "a.reverse()\n",
    "print(\"Reverse\",a,\"\\n\")\n",
    "a.reverse()\n",
    "\n",
    "a.pop()\n",
    "print(\"Pop\",a,\"\\n\")\n",
    "\n",
    "a.remove(7)\n",
    "print(\"Remove\",a,\"\\n\")\n",
    "\n",
    "del a[12]\n",
    "print(\"Del\",a,\"\\n\")\n",
    "\n",
    "a.clear()\n",
    "print(\"Clear\",a,\"\\n\")\n",
    "\n"
   ]
  },
  {
   "cell_type": "code",
   "execution_count": 35,
   "id": "fee2e35a-9347-42b3-b7ff-a3c270d2dcab",
   "metadata": {},
   "outputs": [
    {
     "ename": "NameError",
     "evalue": "name 'a' is not defined",
     "output_type": "error",
     "traceback": [
      "\u001b[1;31m---------------------------------------------------------------------------\u001b[0m",
      "\u001b[1;31mNameError\u001b[0m                                 Traceback (most recent call last)",
      "\u001b[1;32m~\\AppData\\Local\\Temp/ipykernel_5408/3237107501.py\u001b[0m in \u001b[0;36m<module>\u001b[1;34m\u001b[0m\n\u001b[0;32m      1\u001b[0m \u001b[1;32mdel\u001b[0m \u001b[0ma\u001b[0m\u001b[1;33m\u001b[0m\u001b[1;33m\u001b[0m\u001b[0m\n\u001b[1;32m----> 2\u001b[1;33m \u001b[0mprint\u001b[0m\u001b[1;33m(\u001b[0m\u001b[1;34m\"Del\"\u001b[0m\u001b[1;33m,\u001b[0m\u001b[0ma\u001b[0m\u001b[1;33m,\u001b[0m\u001b[1;34m\"\\n\"\u001b[0m\u001b[1;33m)\u001b[0m\u001b[1;33m\u001b[0m\u001b[1;33m\u001b[0m\u001b[0m\n\u001b[0m",
      "\u001b[1;31mNameError\u001b[0m: name 'a' is not defined"
     ]
    }
   ],
   "source": [
    "del a\n",
    "print(\"Del\",a,\"\\n\")"
   ]
  },
  {
   "cell_type": "code",
   "execution_count": 42,
   "id": "85bd7f76-a981-4b61-aabc-006cb3419e8e",
   "metadata": {},
   "outputs": [
    {
     "name": "stdout",
     "output_type": "stream",
     "text": [
      "Split ['Hey!!!', 'this', 'is', 'Revenger'] \n",
      "\n"
     ]
    }
   ],
   "source": [
    "a=\"Hey!!! this is Revenger\"\n",
    "x=a.split()\n",
    "print(\"Split\",x,\"\\n\")\n"
   ]
  }
 ],
 "metadata": {
  "kernelspec": {
   "display_name": "Python 3 (ipykernel)",
   "language": "python",
   "name": "python3"
  },
  "language_info": {
   "codemirror_mode": {
    "name": "ipython",
    "version": 3
   },
   "file_extension": ".py",
   "mimetype": "text/x-python",
   "name": "python",
   "nbconvert_exporter": "python",
   "pygments_lexer": "ipython3",
   "version": "3.9.7"
  }
 },
 "nbformat": 4,
 "nbformat_minor": 5
}
