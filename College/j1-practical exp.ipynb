{
 "cells": [
  {
   "cell_type": "code",
   "execution_count": null,
   "id": "278f68f8-9615-4584-b6b7-278e96aa89f4",
   "metadata": {},
   "outputs": [],
   "source": [
    "###Students record\n",
    "\n",
    "name=input(\"Enter your Name :: \")\n",
    "roll=input(\"Enter your Roll no. :: \")\n",
    "clas=input(\"Enter your Class :: \")\n",
    "div=input(\"Enter your Div :: \")\n",
    "sub=input(\"Enter your Subject :: \")\n",
    "college=input(\"Enter your College :: \")\n",
    "sem=input(\"Enter your Semester :: \")\n",
    "dob=input(\"Enter your D.O.B :: \")\n",
    "address=input(\"Enter your Home Address :: \")\n",
    "tele=input(\"Enter your Telephone No. :: \")\n",
    "email=input(\"Enter your Email :: \")\n",
    "\n",
    "print(\"Name :: \",name,type(name))\n",
    "print(\"Roll no. :: \",roll,type(roll))\n",
    "print(\"Class :: \",clas,type(clas))\n",
    "print(\"Div :: \",div,type(div))\n",
    "print(\"Subject :: \",sub,type(sub))\n",
    "print(\"College :: \",college,type(college))\n",
    "print(\"Semester :: \",sem,type(sem))\n",
    "print(\"D.O.B :: \",dob,type(dob))\n",
    "print(\"Home Address :: \",address,type(address))\n",
    "print(\"Telephone No. :: \",tele,type(tele))\n",
    "print(\"Email :: \",email,type(email))\n"
   ]
  },
  {
   "cell_type": "code",
   "execution_count": null,
   "id": "292dbb6a-f4b3-40e4-b236-7a9d58445f36",
   "metadata": {},
   "outputs": [],
   "source": [
    "print(\"\\n\\nEnter the 5 Subject Marks\")\n",
    "a=float(input(\"PSPC :: \"))\n",
    "b=float(input(\"PSPC LAB :: \"))\n",
    "c=float(input(\"COA :: \"))\n",
    "d=float(input(\"EVS :: \"))\n",
    "e=float(input(\"FOM :: \"))\n",
    "f=float(input(\"MATHS :: \"))\n",
    "\n",
    "g=a+b+c+d+e+f\n",
    "print(\"The total is \",g)\n",
    "\n",
    "h=(g/600)*100\n",
    "print(\"The percentage is \",h,\"\\n\\n\")"
   ]
  },
  {
   "cell_type": "code",
   "execution_count": null,
   "id": "e603744b-4fe8-4ea7-9dac-50c51449463c",
   "metadata": {},
   "outputs": [],
   "source": [
    "b1=float(input(\"\\n\\nEnter the Long Base in cms??\\n\"))\n",
    "b2=float(input(\"Enter the Short Base in cms??\\n\"))\n",
    "h=float(input(\"Enter the Height in cms??\\n\"))\n",
    "\n",
    "print(\"The Area of trapezoid is\",(b1+b2)/2*h,\"cms\\n\\n\")"
   ]
  },
  {
   "cell_type": "code",
   "execution_count": null,
   "id": "24db217d-cf7c-4343-be59-bfeae35a1e45",
   "metadata": {},
   "outputs": [],
   "source": [
    "r=float(input(\"\\n\\nEnter the Radius of The Circle in cms??\\n\"))\n",
    "\n",
    "print(\"The Area of the Circle is\",22/7*r*r,\"cm\\n\\n\")"
   ]
  },
  {
   "cell_type": "code",
   "execution_count": null,
   "id": "5ab3315b-012f-4407-9529-e3eaa9a1451a",
   "metadata": {},
   "outputs": [],
   "source": [
    "r=float(input(\"\\n\\nEnter the Radius of The Circle in cms??\\n\"))\n",
    "\n",
    "print(\"The volume of the Sphere is \",(4/3)*(22/7)*r*r*r,\"Cubic cms\\n\\n\")"
   ]
  },
  {
   "cell_type": "code",
   "execution_count": null,
   "id": "bed9f6d2-d127-4da5-9d1d-464537821d5f",
   "metadata": {},
   "outputs": [],
   "source": [
    "l=float(input(\"\\n\\nEnter the Length in cms??\\n\"))\n",
    "w=float(input(\"Enter the Width in cms??\\n\"))\n",
    "h=float(input(\"Enter the Height in cms??\\n\"))\n",
    "\n",
    "print(\"The Surface Area of the Prism is\",2*l*w+2*w*h+2*l*h,\"Cubic cms\\n\\n\")"
   ]
  }
 ],
 "metadata": {
  "kernelspec": {
   "display_name": "Python 3 (ipykernel)",
   "language": "python",
   "name": "python3"
  },
  "language_info": {
   "codemirror_mode": {
    "name": "ipython",
    "version": 3
   },
   "file_extension": ".py",
   "mimetype": "text/x-python",
   "name": "python",
   "nbconvert_exporter": "python",
   "pygments_lexer": "ipython3",
   "version": "3.9.7"
  }
 },
 "nbformat": 4,
 "nbformat_minor": 5
}
