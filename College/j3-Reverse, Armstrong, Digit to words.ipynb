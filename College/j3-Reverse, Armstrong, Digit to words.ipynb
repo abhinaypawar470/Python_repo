{
 "cells": [
  {
   "cell_type": "code",
   "execution_count": 3,
   "id": "91fab323-392f-4000-9205-9431a315663c",
   "metadata": {},
   "outputs": [
    {
     "name": "stdin",
     "output_type": "stream",
     "text": [
      "Enter the Number:- 65\n"
     ]
    },
    {
     "name": "stdout",
     "output_type": "stream",
     "text": [
      "56 is Reverse number of 65\n"
     ]
    }
   ],
   "source": [
    "#Reverse the Number\n",
    "num=int(input(\"Enter the Number:-\"))\n",
    "n=num\n",
    "rnum=0\n",
    "\n",
    "while(n!=0):\n",
    "    rem=n%10\n",
    "    rnum=rnum*10+rem\n",
    "    n=n//10\n",
    "print(rnum,\"is Reverse number of\",num)"
   ]
  },
  {
   "cell_type": "code",
   "execution_count": 2,
   "id": "ce722283-4f0f-46c6-845d-ee68fbaf3253",
   "metadata": {},
   "outputs": [
    {
     "name": "stdin",
     "output_type": "stream",
     "text": [
      "Enter the Number:- 46784\n"
     ]
    },
    {
     "name": "stdout",
     "output_type": "stream",
     "text": [
      "Four Six Seven Eight Four "
     ]
    }
   ],
   "source": [
    "#Digits to words\n",
    "a=int(input(\"Enter the Number:-\"))\n",
    "size=len(str(a))\n",
    "temp=a\n",
    "a=[]\n",
    "\n",
    "i=0\n",
    "while i!=size:\n",
    "    digit=temp%10\n",
    "    temp=temp//10\n",
    "    a.append(digit)\n",
    "    i=i+1\n",
    "\n",
    "for j in range(size-1,-1,-1):\n",
    "    if a[j]==0:\n",
    "        print(\"Zero\",end=\" \")\n",
    "    elif a[j]==1:\n",
    "        print(\"One\",end=\" \")\n",
    "    elif a[j]==2:\n",
    "        print(\"Two\",end=\" \")\n",
    "    elif a[j]==3:\n",
    "        print(\"Three\",end=\" \")\n",
    "    elif a[j]==4:\n",
    "        print(\"Four\",end=\" \")\n",
    "    elif a[j]==5:\n",
    "        print(\"Five\",end=\" \")\n",
    "    elif a[j]==6:\n",
    "        print(\"Six\",end=\" \")\n",
    "    elif a[j]==7:\n",
    "        print(\"Seven\",end=\" \")\n",
    "    elif a[j]==8:\n",
    "        print(\"Eight\",end=\" \")\n",
    "    elif a[j]==9:\n",
    "        print(\"Nine\",end=\" \")\n",
    "    else:\n",
    "        print(\"Not a Digit\")\n",
    "        \n",
    "        \n",
    "#Another technique \n",
    "\"\"\"while temp!=0:\n",
    "    digit=temp%10\n",
    "    temp=temp//10\n",
    "    d.insert(0,digit)\n",
    "\n",
    "for i in range(size):\n",
    "    if d[i]==0:\n",
    "        print(\"Zero\",end=\" \")\n",
    "    elif d[i]==1:\n",
    "        print(\"One\",end=\" \")\n",
    "    elif d[i]==2:\n",
    "        print(\"Two\",end=\" \")\n",
    "    elif d[i]==3:\n",
    "        print(\"Three\",end=\" \")\n",
    "    elif d[i]==4:\n",
    "        print(\"Four\",end=\" \")\n",
    "    elif d[i]==5:\n",
    "        print(\"Five\",end=\" \")\n",
    "    elif d[i]==6:\n",
    "        print(\"Six\",end=\" \")\n",
    "    elif d[i]==7:\n",
    "        print(\"Seven\",end=\" \")\n",
    "    elif d[i]==8:\n",
    "        print(\"Eight\",end=\" \")\n",
    "    elif d[i]==9:\n",
    "        print(\"Nine\",end=\" \")\n",
    "    else :\n",
    "        print(\"Not a digit\")\n",
    "        \"\"\""
   ]
  },
  {
   "cell_type": "code",
   "execution_count": 6,
   "id": "e81978dc-b173-4b01-a2a3-5bb5f9bf3b74",
   "metadata": {},
   "outputs": [
    {
     "name": "stdin",
     "output_type": "stream",
     "text": [
      "Enter the Number:- 314\n"
     ]
    },
    {
     "name": "stdout",
     "output_type": "stream",
     "text": [
      "False , It is not a Armstrong Number!!!!\n"
     ]
    }
   ],
   "source": [
    "#Armstrong number Check\n",
    "num=int(input(\"Enter the Number:-\"))\n",
    "n=num\n",
    "arm=0\n",
    "power=len(str(num))\n",
    "\n",
    "while n>0:\n",
    "    digit=n%10\n",
    "    arm=arm+digit**power\n",
    "    n=n//10\n",
    "    \n",
    "if num==arm:\n",
    "    print(num==arm,\", It is a Armstrong Number!!!!\")\n",
    "else:\n",
    "    print(num==arm,\", It is not a Armstrong Number!!!!\")\n",
    "    "
   ]
  }
 ],
 "metadata": {
  "kernelspec": {
   "display_name": "Python 3 (ipykernel)",
   "language": "python",
   "name": "python3"
  },
  "language_info": {
   "codemirror_mode": {
    "name": "ipython",
    "version": 3
   },
   "file_extension": ".py",
   "mimetype": "text/x-python",
   "name": "python",
   "nbconvert_exporter": "python",
   "pygments_lexer": "ipython3",
   "version": "3.9.7"
  }
 },
 "nbformat": 4,
 "nbformat_minor": 5
}
